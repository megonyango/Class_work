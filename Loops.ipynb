{
 "cells": [
  {
   "cell_type": "markdown",
   "metadata": {},
   "source": [
    "## Loops\n",
    "    - for loop\n",
    "    - while loop"
   ]
  },
  {
   "cell_type": "markdown",
   "metadata": {},
   "source": [
    "## Lists\n"
   ]
  },
  {
   "cell_type": "code",
   "execution_count": 1,
   "metadata": {},
   "outputs": [
    {
     "name": "stdout",
     "output_type": "stream",
     "text": [
      "['orange', 'banana', 'mangoes']\n"
     ]
    }
   ],
   "source": [
    "\n",
    "fruits=[\"orange\",\"banana\",\"mangoes\"]\n",
    "\n",
    "print(fruits)"
   ]
  },
  {
   "cell_type": "code",
   "execution_count": 2,
   "metadata": {},
   "outputs": [
    {
     "name": "stdout",
     "output_type": "stream",
     "text": [
      "[13, 14, 18, 20, 23]\n"
     ]
    }
   ],
   "source": [
    "#int\n",
    "age=[13,14,18,20,23]\n",
    "print(age)"
   ]
  },
  {
   "cell_type": "code",
   "execution_count": 3,
   "metadata": {},
   "outputs": [
    {
     "name": "stdout",
     "output_type": "stream",
     "text": [
      "[True, False, False, True]\n"
     ]
    }
   ],
   "source": [
    "#boolean dt\n",
    "listb= [True,False,False,True]\n",
    "print(listb)"
   ]
  },
  {
   "cell_type": "markdown",
   "metadata": {},
   "source": [
    "#read through working with lists"
   ]
  },
  {
   "cell_type": "markdown",
   "metadata": {},
   "source": [
    "## python tuples\n"
   ]
  },
  {
   "cell_type": "code",
   "execution_count": 7,
   "metadata": {},
   "outputs": [
    {
     "name": "stdout",
     "output_type": "stream",
     "text": [
      "('Nairobi', 'Kisumu', 'Mombasa')\n",
      "(10000, 60000, 70000)\n",
      "(True, True, False)\n",
      "<class 'tuple'>\n"
     ]
    }
   ],
   "source": [
    "\n",
    "\n",
    "towns=(\"Nairobi\",\"Kisumu\",\"Mombasa\")\n",
    "salary=(10000,60000,70000)\n",
    "boolt=(True,True,False)\n",
    "\n",
    "print(towns)\n",
    "print(salary)\n",
    "print(boolt)\n",
    "\n",
    "print(type(towns))"
   ]
  },
  {
   "cell_type": "code",
   "execution_count": 8,
   "metadata": {},
   "outputs": [
    {
     "name": "stdout",
     "output_type": "stream",
     "text": [
      "('Kevin', 21, True, 'Datascience')\n"
     ]
    }
   ],
   "source": [
    "comb=(\"Kevin\",21,True,\"Datascience\")\n",
    "\n",
    "print(comb)"
   ]
  },
  {
   "cell_type": "markdown",
   "metadata": {},
   "source": [
    "#read more on this\n",
    " - unpack ,join,update,"
   ]
  },
  {
   "cell_type": "markdown",
   "metadata": {},
   "source": [
    "## python sets\n"
   ]
  },
  {
   "cell_type": "code",
   "execution_count": 9,
   "metadata": {},
   "outputs": [
    {
     "name": "stdout",
     "output_type": "stream",
     "text": [
      "{'blue', 'red', 'brown'}\n",
      "<class 'set'>\n"
     ]
    }
   ],
   "source": [
    "# are used to hold multiple variables\n",
    "\n",
    "\n",
    "colors = {\"red\",\"blue\",\"brown\"}\n",
    "\n",
    "print(colors)\n",
    "print(type(colors))"
   ]
  },
  {
   "cell_type": "code",
   "execution_count": 10,
   "metadata": {},
   "outputs": [],
   "source": [
    "# characteristics of set  -unodered ,unchangable, unique(no duplicates)"
   ]
  },
  {
   "cell_type": "code",
   "execution_count": 11,
   "metadata": {},
   "outputs": [
    {
     "name": "stdout",
     "output_type": "stream",
     "text": [
      "{2, 4, 6, 8, 10}\n",
      "{'female', True, 10, 'Meg'}\n"
     ]
    }
   ],
   "source": [
    "set1={2,4,6,8,10}\n",
    "set2={\"Meg\",\"female\",10,True}\n",
    "\n",
    "print(set1)\n",
    "print(set2)"
   ]
  },
  {
   "cell_type": "markdown",
   "metadata": {},
   "source": [
    "Read - Access items,Add items,Remove items, Join"
   ]
  },
  {
   "cell_type": "markdown",
   "metadata": {},
   "source": [
    "## Dictonaries"
   ]
  },
  {
   "cell_type": "code",
   "execution_count": 13,
   "metadata": {},
   "outputs": [
    {
     "name": "stdout",
     "output_type": "stream",
     "text": [
      "{'Name': 'Jane', 'Gender': 'Female', 'Age': 20}\n"
     ]
    }
   ],
   "source": [
    "\n",
    "dict1= {\n",
    "   \"Name\":\"Jane\",\n",
    "    \"Gender\":\"Female\",\n",
    "     \"Age\": 20\n",
    "    \n",
    "}\n",
    "\n",
    "print(dict1)"
   ]
  },
  {
   "cell_type": "code",
   "execution_count": 14,
   "metadata": {},
   "outputs": [],
   "source": [
    "# characteristics of dict  -unodered ,unchangable, unique(no duplicates)"
   ]
  },
  {
   "cell_type": "markdown",
   "metadata": {},
   "source": [
    "## While Loops"
   ]
  },
  {
   "cell_type": "code",
   "execution_count": 18,
   "metadata": {},
   "outputs": [
    {
     "name": "stdout",
     "output_type": "stream",
     "text": [
      "i is 1\n",
      "i is 2\n",
      "i is 3\n",
      "i is 4\n",
      "i is 5\n",
      "i is 6\n",
      "i is 7\n",
      "i is 8\n",
      "i is 9\n"
     ]
    }
   ],
   "source": [
    "i=1\n",
    "\n",
    "while i<10:\n",
    "    print(\"i is\",i)\n",
    "    i+=1"
   ]
  },
  {
   "cell_type": "code",
   "execution_count": 20,
   "metadata": {},
   "outputs": [
    {
     "name": "stdout",
     "output_type": "stream",
     "text": [
      "j is 1\n",
      "j is 2\n",
      "j is 3\n",
      "j is 4\n",
      "j is 5\n",
      "j is 6\n",
      "j is 7\n",
      "j is 8\n",
      "j is 9\n",
      "j is now greater than 10\n"
     ]
    }
   ],
   "source": [
    "j=1\n",
    "\n",
    "while j<10:\n",
    "      print(\"j is\",j)\n",
    "      j+=1\n",
    "        \n",
    "else :\n",
    "    print(\"j is now greater than 10\")"
   ]
  },
  {
   "cell_type": "code",
   "execution_count": 21,
   "metadata": {},
   "outputs": [],
   "source": [
    "# using while, print even numbers upto 50;"
   ]
  },
  {
   "cell_type": "markdown",
   "metadata": {},
   "source": [
    "## For Loop"
   ]
  },
  {
   "cell_type": "code",
   "execution_count": 22,
   "metadata": {},
   "outputs": [
    {
     "name": "stdout",
     "output_type": "stream",
     "text": [
      "i is 0\n",
      "i is 1\n",
      "i is 2\n",
      "i is 3\n",
      "i is 4\n",
      "i is 5\n",
      "i is 6\n",
      "i is 7\n",
      "i is 8\n",
      "i is 9\n"
     ]
    }
   ],
   "source": [
    "n=10\n",
    "\n",
    "for i in range (0,n):\n",
    "    print (\"i is\",i)"
   ]
  },
  {
   "cell_type": "code",
   "execution_count": 24,
   "metadata": {},
   "outputs": [
    {
     "name": "stdout",
     "output_type": "stream",
     "text": [
      "Jane\n",
      "Lucy\n",
      "John\n"
     ]
    }
   ],
   "source": [
    "#iterating between lists\n",
    "\n",
    "list=[\"Jane\",\"Lucy\",\"John\"]\n",
    "for i in list:\n",
    "    print(i) "
   ]
  },
  {
   "cell_type": "code",
   "execution_count": 26,
   "metadata": {},
   "outputs": [
    {
     "name": "stdout",
     "output_type": "stream",
     "text": [
      "10\n",
      "20\n",
      "30\n",
      "40\n"
     ]
    }
   ],
   "source": [
    "tuple=(10,20,30,40)\n",
    "for i in tuple:\n",
    "    print(i)"
   ]
  },
  {
   "cell_type": "code",
   "execution_count": 28,
   "metadata": {},
   "outputs": [
    {
     "name": "stdout",
     "output_type": "stream",
     "text": [
      "E\n",
      "m\n",
      "o\n",
      "b\n",
      "i\n",
      "l\n",
      "i\n",
      "s\n"
     ]
    }
   ],
   "source": [
    "string=\"Emobilis\"\n",
    "for i in string:\n",
    "     print(i)"
   ]
  },
  {
   "cell_type": "code",
   "execution_count": 29,
   "metadata": {},
   "outputs": [
    {
     "name": "stdout",
     "output_type": "stream",
     "text": [
      "Jane\n",
      "Lucy\n",
      "John\n",
      "Not in the block\n"
     ]
    }
   ],
   "source": [
    "#for loop with else\n",
    "list=[\"Jane\",\"Lucy\",\"John\"]\n",
    "for i in list:\n",
    "    print(i) \n",
    "else:\n",
    "    print(\"Not in the block\")"
   ]
  },
  {
   "cell_type": "code",
   "execution_count": null,
   "metadata": {},
   "outputs": [],
   "source": []
  }
 ],
 "metadata": {
  "kernelspec": {
   "display_name": "Python 3",
   "language": "python",
   "name": "python3"
  },
  "language_info": {
   "codemirror_mode": {
    "name": "ipython",
    "version": 3
   },
   "file_extension": ".py",
   "mimetype": "text/x-python",
   "name": "python",
   "nbconvert_exporter": "python",
   "pygments_lexer": "ipython3",
   "version": "3.8.3"
  }
 },
 "nbformat": 4,
 "nbformat_minor": 4
}
